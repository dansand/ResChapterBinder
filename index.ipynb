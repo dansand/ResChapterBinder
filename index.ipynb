{
 "cells": [
  {
   "cell_type": "markdown",
   "metadata": {},
   "source": [
    "# Data wrangling with Python / Numpy\n",
    "\n",
    "\n"
   ]
  },
  {
   "cell_type": "markdown",
   "metadata": {},
   "source": [
    "## What is Jupyter?"
   ]
  },
  {
   "cell_type": "markdown",
   "metadata": {},
   "source": [
    "This is a Jupyter Notebook. The Jupyter Notebook is a web application that allows you to create documents that contain live code and explanatory text.\n",
    "\n",
    "Assuming you haven't used Jupyter notebooks before, we'll provide the bare minimum explanation to get you started. \n",
    "\n",
    "A notebook is made up of cells. Try clicking on a couple of cells below. You notice that in this notebook there are __two types of cells: code cells and Markdown cells__. This is a Markdown cell - it allows us to explanatory text in the simple Markdown syntax. "
   ]
  },
  {
   "cell_type": "markdown",
   "metadata": {},
   "source": [
    "Code cells are much more intersting. These allow us to run code and have the output returned to us in the Notebook.\n",
    "\n",
    "Try clicking on the first code cell below, the one that says \n",
    "\n",
    "```Python\n",
    "import numpy\n",
    "```\n",
    "\n",
    "This highlights the code block, but does not actually run the code. To run the code, click  <kbd>SHIFT</kbd>+<kbd>ENTER</kbd>, or click the play button (<button class='fa fa-play icon-play btn btn-xs btn-default'></button>) in the toolbar above.\n",
    "\n",
    "You can run this analysis in this Notebook by basically just repeatedely clicking  <kbd>SHIFT</kbd>+<kbd>ENTER</kbd> on every cell. \n",
    "\n",
    "* When you're ready to try writing your own code, start a new cell by clicking  in the insert tab in the toolbar."
   ]
  },
  {
   "cell_type": "markdown",
   "metadata": {},
   "source": [
    "## Importing a python Library"
   ]
  },
  {
   "cell_type": "code",
   "execution_count": null,
   "metadata": {
    "collapsed": true
   },
   "outputs": [],
   "source": [
    "import numpy"
   ]
  },
  {
   "cell_type": "markdown",
   "metadata": {},
   "source": [
    "## loading data"
   ]
  },
  {
   "cell_type": "code",
   "execution_count": null,
   "metadata": {
    "collapsed": false
   },
   "outputs": [],
   "source": [
    "numpy.loadtxt('nasdaq.csv')\n"
   ]
  },
  {
   "cell_type": "markdown",
   "metadata": {},
   "source": [
    "## numpy arrays as variables"
   ]
  },
  {
   "cell_type": "code",
   "execution_count": null,
   "metadata": {
    "collapsed": false
   },
   "outputs": [],
   "source": [
    "data = numpy.loadtxt('nasdaq.csv')\n"
   ]
  },
  {
   "cell_type": "code",
   "execution_count": null,
   "metadata": {
    "collapsed": false
   },
   "outputs": [],
   "source": [
    "%pylab inline\n",
    "plt.plot(data)\n"
   ]
  },
  {
   "cell_type": "markdown",
   "metadata": {},
   "source": [
    "## maths with arrays"
   ]
  },
  {
   "cell_type": "code",
   "execution_count": null,
   "metadata": {
    "collapsed": false
   },
   "outputs": [],
   "source": [
    "data*2.0"
   ]
  },
  {
   "cell_type": "code",
   "execution_count": null,
   "metadata": {
    "collapsed": false
   },
   "outputs": [],
   "source": [
    "d2 = data*2.0\n",
    "d2"
   ]
  },
  {
   "cell_type": "code",
   "execution_count": null,
   "metadata": {
    "collapsed": false
   },
   "outputs": [],
   "source": [
    "print(data - data)"
   ]
  },
  {
   "cell_type": "markdown",
   "metadata": {
    "collapsed": true
   },
   "source": [
    "## indexing"
   ]
  },
  {
   "cell_type": "code",
   "execution_count": null,
   "metadata": {
    "collapsed": false
   },
   "outputs": [],
   "source": [
    "print('first value in data:', data[0])"
   ]
  },
  {
   "cell_type": "code",
   "execution_count": null,
   "metadata": {
    "collapsed": false
   },
   "outputs": [],
   "source": [
    "zeroonetwo = numpy.arange(3)\n",
    "print(zeroonetwo)\n",
    "print(zeroonetwo[2])"
   ]
  },
  {
   "cell_type": "code",
   "execution_count": null,
   "metadata": {
    "collapsed": false
   },
   "outputs": [],
   "source": [
    "\n",
    "print('last value in data:', data[-1])\n"
   ]
  },
  {
   "cell_type": "markdown",
   "metadata": {},
   "source": [
    "## slicing and dicing"
   ]
  },
  {
   "cell_type": "code",
   "execution_count": null,
   "metadata": {
    "collapsed": false
   },
   "outputs": [],
   "source": [
    "print(data[0:5])"
   ]
  },
  {
   "cell_type": "markdown",
   "metadata": {},
   "source": [
    "## combining tricks\n",
    "\n",
    "![Alt](figs/vectorized_diff.png \"difference\")"
   ]
  },
  {
   "cell_type": "code",
   "execution_count": null,
   "metadata": {
    "collapsed": false
   },
   "outputs": [],
   "source": [
    "u = numpy.arange(5)\n",
    "print(u)\n",
    "print(u[1:] - u[:-1])"
   ]
  },
  {
   "cell_type": "markdown",
   "metadata": {},
   "source": [
    "## asking questions / boolean arrays"
   ]
  },
  {
   "cell_type": "code",
   "execution_count": null,
   "metadata": {
    "collapsed": false
   },
   "outputs": [],
   "source": [
    "print(data.mean())"
   ]
  },
  {
   "cell_type": "code",
   "execution_count": null,
   "metadata": {
    "collapsed": false
   },
   "outputs": [],
   "source": [
    "data > data.mean()"
   ]
  },
  {
   "cell_type": "code",
   "execution_count": null,
   "metadata": {
    "collapsed": false
   },
   "outputs": [],
   "source": [
    "ba = data > data.mean()\n",
    "print(ba)\n",
    "print(data[ba])"
   ]
  },
  {
   "cell_type": "code",
   "execution_count": null,
   "metadata": {
    "collapsed": false
   },
   "outputs": [],
   "source": [
    "len(data[ba])"
   ]
  },
  {
   "cell_type": "markdown",
   "metadata": {},
   "source": [
    "## Challenge\n",
    "\n",
    "Remember that our data array contains the daily closing price for the Nasdaq. We are interested in the overall frequency with which today's closing price change follows yesterday's."
   ]
  },
  {
   "cell_type": "markdown",
   "metadata": {},
   "source": [
    "Much of the work we need is done by the following lines of code:\n",
    "\n",
    "```perl\n",
    "follow = data[:-1] < data[1:]\n",
    "seq = follow[:-1] == follow[1:]\n",
    "```\n",
    "\n",
    "The first line code will return a Numpy array. That array will have `True` if one day's price (`data[1:]`) is greater than the previous day's (`data[:-1]`); otherwise `False`. \n",
    "\n",
    "The second line of code forms another array, containing `True` if an element has the same value as the preceeding element; otherwise `False`. This is the same as saying, return True if Yesterday's price change was the same as today's price change, otherwise return False. Once again these values are assigned to a new variable, called seq."
   ]
  },
  {
   "cell_type": "code",
   "execution_count": null,
   "metadata": {
    "collapsed": false
   },
   "outputs": [],
   "source": [
    "follow = data[:-1] < data[1:]\n",
    "seq = follow[:-1] == follow[1:]\n",
    "\n",
    "print(data[0:5])\n",
    "print(follow[0:5])\n",
    "print(seq[0:5])"
   ]
  },
  {
   "cell_type": "markdown",
   "metadata": {},
   "source": [
    "So finally, your challenge is to combine the following two Python expressions to answer the __question what is the overall frequency with which today's closing price _change_ follows yesterday's.__\n",
    "\n",
    "```perl\n",
    "seq.sum(), len(data)\n",
    "```\n",
    "\n",
    "* Talk with the helpers about what these Python expressions mean.\n",
    "* Try combining the expressions with a python mathematical operator, e.g:\n",
    " \n",
    "```perl\n",
    "print(seq.sum() +  len(data))\n",
    "```"
   ]
  },
  {
   "cell_type": "code",
   "execution_count": null,
   "metadata": {
    "collapsed": true
   },
   "outputs": [],
   "source": []
  },
  {
   "cell_type": "code",
   "execution_count": null,
   "metadata": {
    "collapsed": true
   },
   "outputs": [],
   "source": []
  }
 ],
 "metadata": {
  "kernelspec": {
   "display_name": "Python 2",
   "language": "python",
   "name": "python2"
  },
  "language_info": {
   "codemirror_mode": {
    "name": "ipython",
    "version": 2
   },
   "file_extension": ".py",
   "mimetype": "text/x-python",
   "name": "python",
   "nbconvert_exporter": "python",
   "pygments_lexer": "ipython2",
   "version": "2.7.12"
  },
  "widgets": {
   "state": {},
   "version": "1.1.2"
  }
 },
 "nbformat": 4,
 "nbformat_minor": 0
}
