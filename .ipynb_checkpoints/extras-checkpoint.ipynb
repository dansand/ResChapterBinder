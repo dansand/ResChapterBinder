{
 "cells": [
  {
   "cell_type": "markdown",
   "metadata": {},
   "source": [
    "## Extras\n",
    "\n",
    "In this notebook we develop some more rigourous statistical tests around the efficient market hypothesis. Assume we are attempting to falsify the null hypothsis, that that the daily market value changes are uncorrelated."
   ]
  },
  {
   "cell_type": "markdown",
   "metadata": {},
   "source": [
    "## A few definitions:\n",
    "\n",
    "### Correlations\n",
    "\n",
    "* Serial correlation is the relationship between a given variable and itself over various time intervals. Serial correlations are often found in repeating patterns, when the level of a variable effects its future level.\n",
    "    \n",
    "    * white noise is “uncorrelated”, which means that each value is independent of the others, and Brownian noise as “correlated”, because each value depends on the preceding value. \n",
    "\n",
    "    * A martingale is a sequence of random variables (i.e., a stochastic process) for which, at a particular time in the realized sequence, the expectation of the next value in the sequence is equal to the present observed value even given knowledge of all prior observed values.\n",
    "\n",
    "    * A necessary (but not sufficient) condition for the martingale hypothesis to hold is that the time series has no autocorrelation, also known as serial correlation, of any order. Note that autocorrelation is sensitive only to linear relationships\n",
    "\n",
    "* Fama (1970) found that 22 out of the 30 stocks of the Dow Jones Industrial Average exhibited positive daily serial correlation. \n",
    "\n",
    "* Returns, rather than price are often used, are used as some of the statistical tests require a stationary variable. \n",
    "\n",
    "### Runs test\n",
    "\n",
    "* The Wald–Wolfowitz runs test (or simply runs test), is a non-parametric statistical test that checks a randomness hypothesis for a two-valued data sequence. More precisely, it can be used to test the hypothesis that the elements of the sequence are mutually independent.\n",
    "\n",
    "*  In contrast to autocorrelation, the runs test loses information because the magnitude of the returns is lost. However, whilst autocorrelation can detect only linear relationships, the runs test can detect both linear and non-linear relationships.\n",
    "\n",
    "* If the number of runs is significantly higher or lower than expected, the hypothesis of statistical independence may be rejected. Consider the DJIA closing prices. There is no need to detrend the data. A run is a consecutive sequence of returns above (below) the mean return. The above runs test is performed on daily, weekly, monthly and annual returns, in chronological order.\n",
    "\n",
    "Under the null hypothesis, the number of runs in a sequence of $N$ elements is a random variable whose conditional distribution given the observation of $N_+$ positive values and $N_−$ negative values $(N = N_+ + N_−)$ is approximately normal, with\n",
    "\n",
    "mean: $\\mu ={\\frac  {2\\ N_{+}\\ N_{-}}{N}}+1\\,$\n",
    "\n",
    "std: $\\sigma ^{2}={\\frac  {2\\ N_{+}\\ N_{-}\\ (2\\ N_{+}\\ N_{-}-N)}{N^{2}\\ (N-1)}}={\\frac  {(\\mu -1)(\\mu -2)}{N-1}}\\,$\n",
    "\n",
    "The test statistic is\n",
    "\n",
    "$$ Z= \\frac{R−\\mu}{\\sigma} $$\n",
    "\n",
    "where R is the observed number of runs.\n",
    "\n",
    "\n",
    "For a large-sample runs testm the test statistic is compared to a standard normal table. That is, at the 5% significance level, a test statistic with an absolute value greater than 1.96 indicates non-randomness."
   ]
  },
  {
   "cell_type": "code",
   "execution_count": 104,
   "metadata": {
    "collapsed": false
   },
   "outputs": [
    {
     "name": "stdout",
     "output_type": "stream",
     "text": [
      "Populating the interactive namespace from numpy and matplotlib\n"
     ]
    },
    {
     "name": "stderr",
     "output_type": "stream",
     "text": [
      "WARNING: pylab import has clobbered these variables: ['detrend']\n",
      "`%matplotlib` prevents importing * from pylab and numpy\n"
     ]
    }
   ],
   "source": [
    "import numpy as np\n",
    "%pylab inline\n",
    "import seaborn as sns"
   ]
  },
  {
   "cell_type": "code",
   "execution_count": 115,
   "metadata": {
    "collapsed": true
   },
   "outputs": [],
   "source": [
    "def polynomial_detrend(data, order, plot=False):\n",
    "    \"\"\"\n",
    "    Removes a polynomial trend from the data.\n",
    "\n",
    "    :param data: The data to detrend. Will be modified in-place.\n",
    "    :type data: :class:`numpy.ndarray`\n",
    "    :param order: The order of the polynomial to fit.\n",
    "    :type order: int\n",
    "    :param plot: If True, a plot of the operation happening will be shown.\n",
    "        If a string is given that plot will be saved to the given file name.\n",
    "    :type plot: bool or str\n",
    "    \"\"\"\n",
    "    # Convert data if it's not a floating point type.\n",
    "    if not np.issubdtype(data.dtype, float):\n",
    "        data = np.require(data, dtype=np.float64)\n",
    "\n",
    "    x = np.arange(len(data))\n",
    "    fit = np.polyval(np.polyfit(x, data, deg=order), x)\n",
    "\n",
    "    data -= fit\n",
    "    return data"
   ]
  },
  {
   "cell_type": "code",
   "execution_count": 118,
   "metadata": {
    "collapsed": true
   },
   "outputs": [],
   "source": [
    "data = numpy.loadtxt('nasdaq.csv')\n",
    "\n",
    "detrend = True\n",
    "if detrend:\n",
    "    #data = simple_detrend(data)\n",
    "    data = polynomial_detrend(data, 3)\n",
    "\n",
    "follow = data[:-1] < data[1:]\n",
    "seq = follow[:-1] == follow[1:]\n",
    "\n",
    "\n"
   ]
  },
  {
   "cell_type": "code",
   "execution_count": 119,
   "metadata": {
    "collapsed": false
   },
   "outputs": [
    {
     "data": {
      "text/plain": [
       "[<matplotlib.lines.Line2D at 0x121411610>]"
      ]
     },
     "execution_count": 119,
     "metadata": {},
     "output_type": "execute_result"
    },
    {
     "data": {
      "image/png": "[encoded data removed]",
      "text/plain": [
       "<matplotlib.figure.Figure at 0x121181c90>"
      ]
     },
     "metadata": {},
     "output_type": "display_data"
    }
   ],
   "source": [
    "plt.plot(data)"
   ]
  },
  {
   "cell_type": "markdown",
   "metadata": {},
   "source": [
    "## Autocorrelation"
   ]
  },
  {
   "cell_type": "code",
   "execution_count": 120,
   "metadata": {
    "collapsed": true
   },
   "outputs": [],
   "source": [
    "def serial_corr(sig, lag=1):\n",
    "    n = len(sig)\n",
    "    y1 = sig[lag:]\n",
    "    y2 = sig[:n-lag]\n",
    "    corr = np.corrcoef(y1, y2, ddof=0)[0, 1]\n",
    "    return corr"
   ]
  },
  {
   "cell_type": "code",
   "execution_count": 121,
   "metadata": {
    "collapsed": false
   },
   "outputs": [],
   "source": [
    "coors = []\n",
    "for i in range(1,10):\n",
    "    coors.append(serial_corr(follow ,  lag=int(i)))"
   ]
  },
  {
   "cell_type": "code",
   "execution_count": 122,
   "metadata": {
    "collapsed": false
   },
   "outputs": [
    {
     "data": {
      "text/plain": [
       "<Container object of 9 artists>"
      ]
     },
     "execution_count": 122,
     "metadata": {},
     "output_type": "execute_result"
    },
    {
     "data": {
      "image/png": "[encoded data removed]",
      "text/plain": [
       "<matplotlib.figure.Figure at 0x12130ad10>"
      ]
     },
     "metadata": {},
     "output_type": "display_data"
    }
   ],
   "source": [
    "plt.bar(range(1,10), coors)"
   ]
  },
  {
   "cell_type": "code",
   "execution_count": 123,
   "metadata": {
    "collapsed": false
   },
   "outputs": [
    {
     "data": {
      "text/plain": [
       "0.00067931358868055186"
      ]
     },
     "execution_count": 123,
     "metadata": {},
     "output_type": "execute_result"
    }
   ],
   "source": [
    "#test on random data\n",
    "np.random.seed(22)\n",
    "\n",
    "test = np.random.randint(0,2,len(follow))\n",
    "serial_corr(test)"
   ]
  },
  {
   "cell_type": "code",
   "execution_count": 124,
   "metadata": {
    "collapsed": true
   },
   "outputs": [],
   "source": [
    "coors = []\n",
    "for i in range(1, 10):\n",
    "    coors.append(serial_corr(test,  lag=i))"
   ]
  },
  {
   "cell_type": "code",
   "execution_count": 125,
   "metadata": {
    "collapsed": false
   },
   "outputs": [
    {
     "data": {
      "text/plain": [
       "<Container object of 9 artists>"
      ]
     },
     "execution_count": 125,
     "metadata": {},
     "output_type": "execute_result"
    },
    {
     "data": {
      "image/png": "[encoded data removed]",
      "text/plain": [
       "<matplotlib.figure.Figure at 0x12176d0d0>"
      ]
     },
     "metadata": {},
     "output_type": "display_data"
    }
   ],
   "source": [
    "plt.bar(range(1, 10), coors)"
   ]
  },
  {
   "cell_type": "markdown",
   "metadata": {},
   "source": [
    "## Runs test"
   ]
  },
  {
   "cell_type": "markdown",
   "metadata": {
    "collapsed": true
   },
   "source": [
    "First we need to count the number of 'runs' in our dataset"
   ]
  },
  {
   "cell_type": "code",
   "execution_count": 128,
   "metadata": {
    "collapsed": true
   },
   "outputs": [],
   "source": [
    "#It detects where chunks begin and compute differences between chunk starts and\n",
    "runs = np.diff(np.where(follow[:-1] != follow[1:]))"
   ]
  },
  {
   "cell_type": "code",
   "execution_count": 137,
   "metadata": {
    "collapsed": true
   },
   "outputs": [],
   "source": [
    "#alternatively\n",
    "runstart = np.nonzero(np.diff(np.r_[[-np.inf], follow, [np.inf]]))[0]\n",
    "runs =  np.diff(runstart)"
   ]
  },
  {
   "cell_type": "code",
   "execution_count": 148,
   "metadata": {
    "collapsed": false
   },
   "outputs": [
    {
     "data": {
      "text/plain": [
       "(array([  2.23200000e+03,   1.23700000e+03,   0.00000000e+00,\n",
       "          7.42000000e+02,   0.00000000e+00,   3.77000000e+02,\n",
       "          2.12000000e+02,   0.00000000e+00,   1.15000000e+02,\n",
       "          0.00000000e+00,   6.70000000e+01,   4.40000000e+01,\n",
       "          0.00000000e+00,   2.10000000e+01,   0.00000000e+00,\n",
       "          1.00000000e+01,   7.00000000e+00,   0.00000000e+00,\n",
       "          5.00000000e+00,   0.00000000e+00,   2.00000000e+00,\n",
       "          0.00000000e+00,   0.00000000e+00,   0.00000000e+00,\n",
       "          2.00000000e+00]),\n",
       " array([  1. ,   1.6,   2.2,   2.8,   3.4,   4. ,   4.6,   5.2,   5.8,\n",
       "          6.4,   7. ,   7.6,   8.2,   8.8,   9.4,  10. ,  10.6,  11.2,\n",
       "         11.8,  12.4,  13. ,  13.6,  14.2,  14.8,  15.4,  16. ]),\n",
       " <a list of 25 Patch objects>)"
      ]
     },
     "execution_count": 148,
     "metadata": {},
     "output_type": "execute_result"
    },
    {
     "data": {
      "image/png": "[encoded data removed]",
      "text/plain": [
       "<matplotlib.figure.Figure at 0x12326e550>"
      ]
     },
     "metadata": {},
     "output_type": "display_data"
    }
   ],
   "source": [
    "plt.hist(runs, bins=25)"
   ]
  },
  {
   "cell_type": "code",
   "execution_count": 139,
   "metadata": {
    "collapsed": true
   },
   "outputs": [],
   "source": [
    "from scipy import stats\n",
    "\n",
    "class Runs(object):\n",
    "    \n",
    "    '''class for runs in a binary sequence\n",
    "\n",
    "\n",
    "    Parameters\n",
    "    ----------\n",
    "    x : array_like, 1d\n",
    "        data array,\n",
    "\n",
    "\n",
    "    Notes\n",
    "    -----\n",
    "    This was written as a more general class for runs. This has some redundant\n",
    "    calculations when only the runs_test is used.\n",
    "\n",
    "    TODO: make it lazy\n",
    "\n",
    "    The runs test could be generalized to more than 1d if there is a use case\n",
    "    for it.\n",
    "\n",
    "    This should be extended once I figure out what the distribution of runs\n",
    "    of any length k is.\n",
    "\n",
    "    The exact distribution for the runs test is also available but not yet\n",
    "    verified.\n",
    "\n",
    "    '''\n",
    "\n",
    "    def __init__(self, x):\n",
    "        self.x = np.asarray(x)\n",
    "\n",
    "        self.runstart = runstart = np.nonzero(np.diff(np.r_[[-np.inf], x, [np.inf]]))[0]\n",
    "        self.runs = runs = np.diff(runstart)\n",
    "        self.runs_sign = runs_sign = x[runstart[:-1]]\n",
    "        self.runs_pos = runs[runs_sign==1]\n",
    "        self.runs_neg = runs[runs_sign==0]\n",
    "        self.runs_freqs = np.bincount(runs)\n",
    "        self.n_runs = len(self.runs)\n",
    "        self.n_pos = (x==1).sum()\n",
    "\n",
    "    def runs_test(self, correction=True):\n",
    "        '''basic version of runs test\n",
    "\n",
    "        Parameters\n",
    "        ----------\n",
    "        correction: bool\n",
    "            Following the SAS manual, for samplesize below 50, the test\n",
    "            statistic is corrected by 0.5. This can be turned off with\n",
    "            correction=False, and was included to match R, tseries, which\n",
    "            does not use any correction.\n",
    "\n",
    "        pvalue based on normal distribution, with integer correction\n",
    "\n",
    "        '''\n",
    "        self.npo = npo = (self.runs_pos).sum()\n",
    "        self.nne = nne = (self.runs_neg).sum()\n",
    "\n",
    "        #n_r = self.n_runs\n",
    "        n = npo + nne\n",
    "        npn = npo * nne\n",
    "        rmean = 2. * npn / n + 1 #expected number of runs\n",
    "        rvar = 2. * npn * (2.*npn - n) / n**2. / (n-1.)\n",
    "        rstd = np.sqrt(rvar)    #expected standard deviation\n",
    "        rdemean = self.n_runs - rmean #observed minus expected number of runs\n",
    "        if n >= 50 or not correction:\n",
    "            z = rdemean\n",
    "        else:\n",
    "            if rdemean > 0.5:\n",
    "                z = rdemean - 0.5\n",
    "            elif rdemean < 0.5:\n",
    "                z = rdemean + 0.5\n",
    "            else:\n",
    "                z = 0.\n",
    "\n",
    "        z /= rstd\n",
    "        pval = 2 * stats.norm.sf(np.abs(z))\n",
    "        return z, pval"
   ]
  },
  {
   "cell_type": "code",
   "execution_count": 145,
   "metadata": {
    "collapsed": true
   },
   "outputs": [],
   "source": [
    "runguy = Runs(follow)"
   ]
  },
  {
   "cell_type": "code",
   "execution_count": 152,
   "metadata": {
    "collapsed": false
   },
   "outputs": [
    {
     "name": "stdout",
     "output_type": "stream",
     "text": [
      "('run frequencies are:', array([   0, 2232, 1237,  742,  377,  212,  115,   67,   44,   21,   10,\n",
      "          7,    5,    2,    0,    0,    2]))\n",
      "('number of runs are:', 5073)\n"
     ]
    }
   ],
   "source": [
    "print('run frequencies are:', runguy.runs_freqs)\n",
    "print('number of runs are:', runguy.n_runs)"
   ]
  },
  {
   "cell_type": "code",
   "execution_count": 146,
   "metadata": {
    "collapsed": false
   },
   "outputs": [
    {
     "data": {
      "text/plain": [
       "(-12.254282776544978, 1.5935293720600122e-34)"
      ]
     },
     "execution_count": 146,
     "metadata": {},
     "output_type": "execute_result"
    }
   ],
   "source": [
    "runguy.runs_test()"
   ]
  },
  {
   "cell_type": "code",
   "execution_count": 147,
   "metadata": {
    "collapsed": false
   },
   "outputs": [
    {
     "data": {
      "text/plain": [
       "2537"
      ]
     },
     "execution_count": 147,
     "metadata": {},
     "output_type": "execute_result"
    }
   ],
   "source": [
    "len(runguy.runs_pos)"
   ]
  },
  {
   "cell_type": "code",
   "execution_count": null,
   "metadata": {
    "collapsed": true
   },
   "outputs": [],
   "source": []
  }
 ],
 "metadata": {
  "kernelspec": {
   "display_name": "Python 2",
   "language": "python",
   "name": "python2"
  },
  "language_info": {
   "codemirror_mode": {
    "name": "ipython",
    "version": 2
   },
   "file_extension": ".py",
   "mimetype": "text/x-python",
   "name": "python",
   "nbconvert_exporter": "python",
   "pygments_lexer": "ipython2",
   "version": "2.7.12"
  },
  "widgets": {
   "state": {},
   "version": "1.1.2"
  }
 },
 "nbformat": 4,
 "nbformat_minor": 0
}
