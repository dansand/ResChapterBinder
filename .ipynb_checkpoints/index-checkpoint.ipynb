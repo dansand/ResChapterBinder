{
 "cells": [
  {
   "cell_type": "markdown",
   "metadata": {},
   "source": [
    "# Data wrangling with Python / Numpy\n",
    "\n",
    "This is a Jupyter Notebook. The Jupyter Notebook is a web application that allows you to create documents that contain live code and explanatory text.\n",
    "\n",
    "Assuming you haven't used Jupyter notebooks before, we'll provide the bare minimum explanation to get you started. \n",
    "\n",
    "A notebook is made up of cells. Try clicking on a couple of cells below. You notice that in this notebook there are __two types of cells: code cells and Markdown cells__. This is a Mardown cell - it allows us to explanatory text in the simple Markdown syntax. \n",
    "\n",
    "Code cells are much more intersting. The allow us to run code - in this case Python, and have the output returned to us in the Notebook.\n",
    "\n",
    "Try clicking on the first code cell below, the one that says \n",
    "\n",
    "```\n",
    "import numpy\n",
    "```\n",
    "\n",
    "This highlights the code block, but does not actually run the code. To run the code, click  <kbd>SHIFT</kbd>+<kbd>ENTER</kbd>, or click the `play` icon in the toolbar (the forward arrow).\n",
    "\n",
    "You can run this analysis in this Notebook by basically just repeatedely clicking  <kbd>SHIFT</kbd>+<kbd>ENTER</kbd> on every cell. Remember that you do have to run the cells in order - for instance you have to load the data before you can start using it. You can always return to the top and try running all the cells again. \n",
    "\n",
    "When you're ready to try writing your own code, start a new cell by clicking  in the insert tab in the toolbar, and choosing a location for the new cell (relative to the currently highlighted cell).\n"
   ]
  },
  {
   "cell_type": "markdown",
   "metadata": {},
   "source": [
    "## Importing a python Library"
   ]
  },
  {
   "cell_type": "code",
   "execution_count": 87,
   "metadata": {
    "collapsed": true
   },
   "outputs": [],
   "source": [
    "import numpy"
   ]
  },
  {
   "cell_type": "markdown",
   "metadata": {},
   "source": [
    "## loading data"
   ]
  },
  {
   "cell_type": "code",
   "execution_count": 88,
   "metadata": {
    "collapsed": false
   },
   "outputs": [
    {
     "data": {
      "text/plain": [
       "array([  100.      ,   100.839996,   100.760002, ...,  5213.220215,\n",
       "        5227.209961,  5249.899902])"
      ]
     },
     "execution_count": 88,
     "metadata": {},
     "output_type": "execute_result"
    }
   ],
   "source": [
    "numpy.loadtxt('nasdaq.csv')\n"
   ]
  },
  {
   "cell_type": "markdown",
   "metadata": {},
   "source": [
    "## numpy arrays as variables"
   ]
  },
  {
   "cell_type": "code",
   "execution_count": 75,
   "metadata": {
    "collapsed": false
   },
   "outputs": [],
   "source": [
    "data = numpy.loadtxt('nasdaq.csv')\n"
   ]
  },
  {
   "cell_type": "code",
   "execution_count": 76,
   "metadata": {
    "collapsed": false
   },
   "outputs": [
    {
     "name": "stdout",
     "output_type": "stream",
     "text": [
      "Populating the interactive namespace from numpy and matplotlib\n"
     ]
    },
    {
     "data": {
      "text/plain": [
       "[<matplotlib.lines.Line2D at 0x110dba5d0>]"
      ]
     },
     "execution_count": 76,
     "metadata": {},
     "output_type": "execute_result"
    },
    {
     "data": {
      "image/png": "[encoded data removed]",
      "text/plain": [
       "<matplotlib.figure.Figure at 0x110f7dc10>"
      ]
     },
     "metadata": {},
     "output_type": "display_data"
    }
   ],
   "source": [
    "%pylab inline\n",
    "plt.plot(data)\n"
   ]
  },
  {
   "cell_type": "code",
   "execution_count": 77,
   "metadata": {
    "collapsed": false
   },
   "outputs": [
    {
     "data": {
      "text/plain": [
       "(11496,)"
      ]
     },
     "execution_count": 77,
     "metadata": {},
     "output_type": "execute_result"
    }
   ],
   "source": [
    "data.shape"
   ]
  },
  {
   "cell_type": "markdown",
   "metadata": {},
   "source": [
    "## maths with arrays"
   ]
  },
  {
   "cell_type": "code",
   "execution_count": 78,
   "metadata": {
    "collapsed": false
   },
   "outputs": [
    {
     "data": {
      "text/plain": [
       "array([   200.      ,    201.679992,    201.520004, ...,  10426.44043 ,\n",
       "        10454.419922,  10499.799804])"
      ]
     },
     "execution_count": 78,
     "metadata": {},
     "output_type": "execute_result"
    }
   ],
   "source": [
    "data*2"
   ]
  },
  {
   "cell_type": "code",
   "execution_count": 79,
   "metadata": {
    "collapsed": false
   },
   "outputs": [
    {
     "data": {
      "text/plain": [
       "array([   200.      ,    201.679992,    201.520004, ...,  10426.44043 ,\n",
       "        10454.419922,  10499.799804])"
      ]
     },
     "execution_count": 79,
     "metadata": {},
     "output_type": "execute_result"
    }
   ],
   "source": [
    "d2 = data*2\n",
    "d2"
   ]
  },
  {
   "cell_type": "code",
   "execution_count": 80,
   "metadata": {
    "collapsed": false
   },
   "outputs": [
    {
     "data": {
      "text/plain": [
       "array([ 0.,  0.,  0., ...,  0.,  0.,  0.])"
      ]
     },
     "execution_count": 80,
     "metadata": {},
     "output_type": "execute_result"
    }
   ],
   "source": [
    "data - data"
   ]
  },
  {
   "cell_type": "markdown",
   "metadata": {},
   "source": []
  },
  {
   "cell_type": "markdown",
   "metadata": {
    "collapsed": true
   },
   "source": [
    "## indexing"
   ]
  },
  {
   "cell_type": "code",
   "execution_count": 81,
   "metadata": {
    "collapsed": false
   },
   "outputs": [
    {
     "name": "stdout",
     "output_type": "stream",
     "text": [
      "('first value in data:', 100.0)\n"
     ]
    }
   ],
   "source": [
    "print('first value in data:', data[0])"
   ]
  },
  {
   "cell_type": "code",
   "execution_count": 82,
   "metadata": {
    "collapsed": false
   },
   "outputs": [
    {
     "data": {
      "text/plain": [
       "0"
      ]
     },
     "execution_count": 82,
     "metadata": {},
     "output_type": "execute_result"
    }
   ],
   "source": [
    "zeroonetwo = numpy.arange(3)\n",
    "zeroonetwo[0]"
   ]
  },
  {
   "cell_type": "code",
   "execution_count": 83,
   "metadata": {
    "collapsed": false
   },
   "outputs": [
    {
     "name": "stdout",
     "output_type": "stream",
     "text": [
      "('last value in data:', 5249.8999020000001)\n"
     ]
    }
   ],
   "source": [
    "\n",
    "print('last value in data:', data[-1])\n"
   ]
  },
  {
   "cell_type": "markdown",
   "metadata": {},
   "source": [
    "## slicing and dicing"
   ]
  },
  {
   "cell_type": "code",
   "execution_count": 84,
   "metadata": {
    "collapsed": false
   },
   "outputs": [
    {
     "data": {
      "text/plain": [
       "array([ 100.      ,  100.839996,  100.760002,  100.690002,  101.449997])"
      ]
     },
     "execution_count": 84,
     "metadata": {},
     "output_type": "execute_result"
    }
   ],
   "source": [
    "data[0:5]"
   ]
  },
  {
   "cell_type": "markdown",
   "metadata": {},
   "source": [
    "## combining our tricks"
   ]
  },
  {
   "cell_type": "code",
   "execution_count": 85,
   "metadata": {
    "collapsed": false
   },
   "outputs": [
    {
     "name": "stdout",
     "output_type": "stream",
     "text": [
      "[0 1 2 3 4]\n",
      "[1 1 1 1]\n"
     ]
    }
   ],
   "source": [
    "u = numpy.arange(5)\n",
    "print(u)\n",
    "print(u[1:] - u[:-1])"
   ]
  },
  {
   "cell_type": "code",
   "execution_count": null,
   "metadata": {
    "collapsed": true
   },
   "outputs": [],
   "source": []
  },
  {
   "cell_type": "markdown",
   "metadata": {},
   "source": [
    "## asking questions / boolean arrays"
   ]
  },
  {
   "cell_type": "code",
   "execution_count": 67,
   "metadata": {
    "collapsed": false
   },
   "outputs": [
    {
     "data": {
      "text/plain": [
       "array([False, False, False, ...,  True,  True,  True], dtype=bool)"
      ]
     },
     "execution_count": 67,
     "metadata": {},
     "output_type": "execute_result"
    }
   ],
   "source": [
    "data > data.mean()"
   ]
  },
  {
   "cell_type": "code",
   "execution_count": 68,
   "metadata": {
    "collapsed": false
   },
   "outputs": [
    {
     "data": {
      "text/plain": [
       "1336.6577597914056"
      ]
     },
     "execution_count": 68,
     "metadata": {},
     "output_type": "execute_result"
    }
   ],
   "source": [
    "data.mean()"
   ]
  },
  {
   "cell_type": "code",
   "execution_count": 69,
   "metadata": {
    "collapsed": false
   },
   "outputs": [
    {
     "data": {
      "text/plain": [
       "array([ 1346.359985,  1340.459961,  1349.050049, ...,  5213.220215,\n",
       "        5227.209961,  5249.899902])"
      ]
     },
     "execution_count": 69,
     "metadata": {},
     "output_type": "execute_result"
    }
   ],
   "source": [
    "ba = data > data.mean()\n",
    "data[ba]"
   ]
  },
  {
   "cell_type": "code",
   "execution_count": 23,
   "metadata": {
    "collapsed": false
   },
   "outputs": [
    {
     "data": {
      "text/plain": [
       "array([ 5249.899902,  5227.209961,  5213.220215, ...,  1349.050049,\n",
       "        1340.459961,  1346.359985])"
      ]
     },
     "execution_count": 23,
     "metadata": {},
     "output_type": "execute_result"
    }
   ],
   "source": [
    "data[data > data.mean()]"
   ]
  },
  {
   "cell_type": "code",
   "execution_count": 72,
   "metadata": {
    "collapsed": false
   },
   "outputs": [
    {
     "data": {
      "text/plain": [
       "4789"
      ]
     },
     "execution_count": 72,
     "metadata": {},
     "output_type": "execute_result"
    }
   ],
   "source": [
    "len(data[ba])"
   ]
  },
  {
   "cell_type": "markdown",
   "metadata": {},
   "source": [
    "## Challenge\n",
    "\n",
    "First off, remember that our data array contains the daily closing price for the Nasdaq. We are interested in the overall frequency with which today's closing price change follows yesterday's.\n",
    "\n",
    "The following line code will return a Numpy array. That array will have one of two values: True if todays price data[1:] is greater than yesterday's data[:-1]; otherwise False. The array containing these True and False values are assinged to the new array which we have called follow."
   ]
  },
  {
   "cell_type": "code",
   "execution_count": 26,
   "metadata": {
    "collapsed": false
   },
   "outputs": [],
   "source": [
    "follow = data[:-1] < data[1:]"
   ]
  },
  {
   "cell_type": "code",
   "execution_count": 27,
   "metadata": {
    "collapsed": false
   },
   "outputs": [
    {
     "name": "stdout",
     "output_type": "stream",
     "text": [
      "[ 5249.899902  5227.209961  5213.220215  5222.990234  5232.330078]\n",
      "[False False  True  True False]\n"
     ]
    }
   ],
   "source": [
    "print(data[0:5])\n",
    "print(follow[0:5])"
   ]
  },
  {
   "cell_type": "markdown",
   "metadata": {},
   "source": [
    "Okay, nearly there. This next line of code forms yet another array, containing True if an element has the same value as the preceeding element. This is the same as saying, return True if Yesterday's price change was the same as today's price change, otherwise return False. Once again these values are assigned to a new variable, called seq."
   ]
  },
  {
   "cell_type": "code",
   "execution_count": 28,
   "metadata": {
    "collapsed": false
   },
   "outputs": [],
   "source": [
    "seq = follow[:-1] == follow[1:]"
   ]
  },
  {
   "cell_type": "markdown",
   "metadata": {},
   "source": [
    "Your challenge is to combine the following two Python expressions to answer the question what is the overall frequency with which today's closing price _change_ follows yesterday's."
   ]
  },
  {
   "cell_type": "code",
   "execution_count": 29,
   "metadata": {
    "collapsed": false
   },
   "outputs": [
    {
     "data": {
      "text/plain": [
       "(6484, 11496)"
      ]
     },
     "execution_count": 29,
     "metadata": {},
     "output_type": "execute_result"
    }
   ],
   "source": [
    "seq.sum(), len(data)"
   ]
  },
  {
   "cell_type": "markdown",
   "metadata": {},
   "source": [
    "## Extras"
   ]
  },
  {
   "cell_type": "markdown",
   "metadata": {},
   "source": [
    "## All at once "
   ]
  },
  {
   "cell_type": "code",
   "execution_count": 16,
   "metadata": {
    "collapsed": false
   },
   "outputs": [
    {
     "data": {
      "text/plain": [
       "0.44006610995128742"
      ]
     },
     "execution_count": 16,
     "metadata": {},
     "output_type": "execute_result"
    }
   ],
   "source": [
    "(numpy.loadtxt('nasdaq.csv')[:-1] < numpy.loadtxt('nasdaq.csv')[1:]).sum()/float(len(numpy.loadtxt('nasdaq.csv')))"
   ]
  },
  {
   "cell_type": "markdown",
   "metadata": {
    "collapsed": true
   },
   "source": [
    "\n",
    "\n",
    "white noise as “uncorrelated”, which means that each value is independent of the others, and Brownian noise as “correlated”, because each value depends on the preceding value. \n",
    "\n",
    "In a Brownian noise signal, each value is the sum of the previous value and a random “step”, so we expect a strong serial correlation:\n",
    "\n",
    "A martingale is a sequence of random variables (i.e., a stochastic process) for which, at a particular time in the realized sequence, the expectation of the next value in the sequence is equal to the present observed value even given knowledge of all prior observed values.\n",
    "\n",
    "A necessary (but not sufficient) condition for the martingale hypothesis to hold is that the time series has no\n",
    "autocorrelation, also known as serial correlation, of any order. Note that autocorrelation is sensitive only to linear\n",
    "relationships\n",
    "\n",
    "First, consider the relevant literature on the dependence of stock market returns. Fama (1970) found that 22\n",
    "out of the 30 stocks of the DJIA exhibited positive daily serial correlation. \n",
    "\n",
    "Returns, rather than price are often used, are used as some of the statistical tests require a stationary variable. \n",
    "\n",
    "the runs test, a non-parametric statistical test that can be\n",
    "used to test for serial dependence, a lack of dependence being a necessary (but not sufficient) condition for the\n",
    "martingale hypothesis to hold. In contrast to autocorrelation, the runs test loses information because the magnitude\n",
    "of the returns is lost. However, whilst autocorrelation can detect only linear relationships, the runs test can detect\n",
    "both linear and non-linear relationships.\n",
    "\n",
    "If the number of runs is significantly higher or lower than expected, the hypothesis of statistical independence\n",
    "may be rejected. Consider the DJIA closing prices. There is no need to detrend the data. A run is a consecutive\n",
    "sequence of returns above (below) the mean return. The above runs test is performed on daily, weekly, monthly and\n",
    "annual returns, in chronological order.\n",
    "\n",
    " so-called runs-test also called Wald–Wolfowitz test [3,4]. This is a non-parametric test in which the null-hypothesis stating that the sequence gets produced in random fashion gets tested against the alternative hypothesis stating the opposite -- i.e., produced randomly. In detail, the null-hypothesis gets rejected in case of systematic or clustered arrangement of variables in a sequence. The test is called runs-test as it works with runs in a series -- e.g., the sequence \"ABBC\" has the three runs \"A\", \"BB\" and \"C\". Nonetheless, this test is only designed to work with dichotomous (binary) observations which is not the case in my sequences.\n",
    "\n",
    "\n"
   ]
  },
  {
   "cell_type": "code",
   "execution_count": null,
   "metadata": {
    "collapsed": true
   },
   "outputs": [],
   "source": []
  },
  {
   "cell_type": "code",
   "execution_count": 29,
   "metadata": {
    "collapsed": true
   },
   "outputs": [],
   "source": [
    "def serial_corr(sig, lag=1):\n",
    "    n = len(sig)\n",
    "    y1 = sig[lag:]\n",
    "    y2 = sig[:n-lag]\n",
    "    corr = np.corrcoef(y1, y2, ddof=0)[0, 1]\n",
    "    return corr"
   ]
  },
  {
   "cell_type": "code",
   "execution_count": 30,
   "metadata": {
    "collapsed": false
   },
   "outputs": [
    {
     "data": {
      "text/plain": [
       "0.0074116428029670856"
      ]
     },
     "execution_count": 30,
     "metadata": {},
     "output_type": "execute_result"
    }
   ],
   "source": [
    "serial_corr(follow,  lag=50)"
   ]
  },
  {
   "cell_type": "code",
   "execution_count": 31,
   "metadata": {
    "collapsed": false
   },
   "outputs": [
    {
     "data": {
      "text/plain": [
       "11495"
      ]
     },
     "execution_count": 31,
     "metadata": {},
     "output_type": "execute_result"
    }
   ],
   "source": [
    "len(follow)"
   ]
  },
  {
   "cell_type": "code",
   "execution_count": 32,
   "metadata": {
    "collapsed": false
   },
   "outputs": [],
   "source": [
    "test = np.random.randint(0,2,len(follow))"
   ]
  },
  {
   "cell_type": "code",
   "execution_count": 34,
   "metadata": {
    "collapsed": false
   },
   "outputs": [
    {
     "data": {
      "text/plain": [
       "0.011994298467079393"
      ]
     },
     "execution_count": 34,
     "metadata": {},
     "output_type": "execute_result"
    }
   ],
   "source": [
    "serial_corr(test)"
   ]
  },
  {
   "cell_type": "code",
   "execution_count": 35,
   "metadata": {
    "collapsed": false
   },
   "outputs": [],
   "source": [
    "#It detects where chunks begin, has some logic for the first and last chunk, \n",
    "#and simply computes differences between chunk starts and discards lengths corresponding to False chunks.\n",
    "\n",
    "runs = np.diff(np.where(np.concatenate(([follow[0]],\n",
    "                                     follow[:-1] != follow[1:],\n",
    "                                     [True])))[0])[::2]"
   ]
  },
  {
   "cell_type": "code",
   "execution_count": 36,
   "metadata": {
    "collapsed": false
   },
   "outputs": [],
   "source": [
    "runs = np.diff(np.where(follow[:-1] != follow[1:]))"
   ]
  },
  {
   "cell_type": "code",
   "execution_count": 37,
   "metadata": {
    "collapsed": false
   },
   "outputs": [
    {
     "name": "stdout",
     "output_type": "stream",
     "text": [
      "Populating the interactive namespace from numpy and matplotlib\n"
     ]
    },
    {
     "name": "stderr",
     "output_type": "stream",
     "text": [
      "WARNING: pylab import has clobbered these variables: ['indices', 'test']\n",
      "`%matplotlib` prevents importing * from pylab and numpy\n"
     ]
    }
   ],
   "source": [
    "%pylab inline"
   ]
  },
  {
   "cell_type": "code",
   "execution_count": 41,
   "metadata": {
    "collapsed": false
   },
   "outputs": [
    {
     "data": {
      "text/plain": [
       "array([2, 2, 2, ..., 4, 3, 2])"
      ]
     },
     "execution_count": 41,
     "metadata": {},
     "output_type": "execute_result"
    }
   ],
   "source": [
    "runs[0]"
   ]
  },
  {
   "cell_type": "code",
   "execution_count": 42,
   "metadata": {
    "collapsed": false
   },
   "outputs": [
    {
     "data": {
      "text/plain": [
       "(array([  3.41000000e+03,   1.08900000e+03,   3.33000000e+02,\n",
       "          1.24000000e+02,   1.70000000e+01,   2.30000000e+01,\n",
       "          8.00000000e+00,   2.00000000e+00,   1.00000000e+00,\n",
       "          2.00000000e+00]),\n",
       " array([  1. ,   2.8,   4.6,   6.4,   8.2,  10. ,  11.8,  13.6,  15.4,\n",
       "         17.2,  19. ]),\n",
       " <a list of 10 Patch objects>)"
      ]
     },
     "execution_count": 42,
     "metadata": {},
     "output_type": "execute_result"
    },
    {
     "data": {
      "image/png": "[encoded data removed]",
      "text/plain": [
       "<matplotlib.figure.Figure at 0x10cc0ce10>"
      ]
     },
     "metadata": {},
     "output_type": "display_data"
    }
   ],
   "source": [
    "plt.hist(runs[0])"
   ]
  },
  {
   "cell_type": "code",
   "execution_count": 54,
   "metadata": {
    "collapsed": false
   },
   "outputs": [],
   "source": [
    "from scipy import stats\n",
    "\n",
    "class Runs(object):\n",
    "    '''class for runs in a binary sequence\n",
    "\n",
    "\n",
    "    Parameters\n",
    "    ----------\n",
    "    x : array_like, 1d\n",
    "        data array,\n",
    "\n",
    "\n",
    "    Notes\n",
    "    -----\n",
    "    This was written as a more general class for runs. This has some redundant\n",
    "    calculations when only the runs_test is used.\n",
    "\n",
    "    TODO: make it lazy\n",
    "\n",
    "    The runs test could be generalized to more than 1d if there is a use case\n",
    "    for it.\n",
    "\n",
    "    This should be extended once I figure out what the distribution of runs\n",
    "    of any length k is.\n",
    "\n",
    "    The exact distribution for the runs test is also available but not yet\n",
    "    verified.\n",
    "\n",
    "    '''\n",
    "\n",
    "    def __init__(self, x):\n",
    "        self.x = np.asarray(x)\n",
    "\n",
    "        self.runstart = runstart = np.nonzero(np.diff(np.r_[[-np.inf], x, [np.inf]]))[0]\n",
    "        self.runs = runs = np.diff(runstart)\n",
    "        self.runs_sign = runs_sign = x[runstart[:-1]]\n",
    "        self.runs_pos = runs[runs_sign==1]\n",
    "        self.runs_neg = runs[runs_sign==0]\n",
    "        self.runs_freqs = np.bincount(runs)\n",
    "        self.n_runs = len(self.runs)\n",
    "        self.n_pos = (x==1).sum()\n",
    "\n",
    "    def runs_test(self, correction=True):\n",
    "        '''basic version of runs test\n",
    "\n",
    "        Parameters\n",
    "        ----------\n",
    "        correction: bool\n",
    "            Following the SAS manual, for samplesize below 50, the test\n",
    "            statistic is corrected by 0.5. This can be turned off with\n",
    "            correction=False, and was included to match R, tseries, which\n",
    "            does not use any correction.\n",
    "\n",
    "        pvalue based on normal distribution, with integer correction\n",
    "\n",
    "        '''\n",
    "        self.npo = npo = (self.runs_pos).sum()\n",
    "        self.nne = nne = (self.runs_neg).sum()\n",
    "\n",
    "        #n_r = self.n_runs\n",
    "        n = npo + nne\n",
    "        npn = npo * nne\n",
    "        rmean = 2. * npn / n + 1\n",
    "        rvar = 2. * npn * (2.*npn - n) / n**2. / (n-1.)\n",
    "        rstd = np.sqrt(rvar)\n",
    "        rdemean = self.n_runs - rmean\n",
    "        if n >= 50 or not correction:\n",
    "            z = rdemean\n",
    "        else:\n",
    "            if rdemean > 0.5:\n",
    "                z = rdemean - 0.5\n",
    "            elif rdemean < 0.5:\n",
    "                z = rdemean + 0.5\n",
    "            else:\n",
    "                z = 0.\n",
    "\n",
    "        z /= rstd\n",
    "        pval = 2 * stats.norm.sf(np.abs(z))\n",
    "        return z, pval"
   ]
  },
  {
   "cell_type": "code",
   "execution_count": 55,
   "metadata": {
    "collapsed": true
   },
   "outputs": [],
   "source": [
    "runguy = Runs(follow)"
   ]
  },
  {
   "cell_type": "code",
   "execution_count": 56,
   "metadata": {
    "collapsed": false
   },
   "outputs": [
    {
     "data": {
      "text/plain": [
       "(-12.397360860536665, 2.7007278403852317e-35)"
      ]
     },
     "execution_count": 56,
     "metadata": {},
     "output_type": "execute_result"
    }
   ],
   "source": [
    "runguy.runs_test()"
   ]
  },
  {
   "cell_type": "code",
   "execution_count": 53,
   "metadata": {
    "collapsed": false
   },
   "outputs": [
    {
     "ename": "NameError",
     "evalue": "name 'stats' is not defined",
     "output_type": "error",
     "traceback": [
      "\u001b[0;31m---------------------------------------------------------------------------\u001b[0m",
      "\u001b[0;31mNameError\u001b[0m                                 Traceback (most recent call last)",
      "\u001b[0;32m<ipython-input-53-e9110d97f53a>\u001b[0m in \u001b[0;36m<module>\u001b[0;34m()\u001b[0m\n\u001b[0;32m----> 1\u001b[0;31m \u001b[0mstats\u001b[0m\u001b[0;34m.\u001b[0m\u001b[0mnorm\u001b[0m\u001b[0;34m.\u001b[0m\u001b[0msf\u001b[0m\u001b[0;34m\u001b[0m\u001b[0m\n\u001b[0m",
      "\u001b[0;31mNameError\u001b[0m: name 'stats' is not defined"
     ]
    }
   ],
   "source": [
    "stats.norm.sf"
   ]
  },
  {
   "cell_type": "code",
   "execution_count": 59,
   "metadata": {
    "collapsed": false
   },
   "outputs": [
    {
     "data": {
      "text/plain": [
       "2505"
      ]
     },
     "execution_count": 59,
     "metadata": {},
     "output_type": "execute_result"
    }
   ],
   "source": [
    "len(runguy.runs_pos)"
   ]
  },
  {
   "cell_type": "code",
   "execution_count": 60,
   "metadata": {
    "collapsed": false
   },
   "outputs": [
    {
     "data": {
      "text/plain": [
       "2506"
      ]
     },
     "execution_count": 60,
     "metadata": {},
     "output_type": "execute_result"
    }
   ],
   "source": [
    "len(runguy.runs_pos)"
   ]
  },
  {
   "cell_type": "code",
   "execution_count": null,
   "metadata": {
    "collapsed": true
   },
   "outputs": [],
   "source": []
  },
  {
   "cell_type": "code",
   "execution_count": null,
   "metadata": {
    "collapsed": true
   },
   "outputs": [],
   "source": []
  }
 ],
 "metadata": {
  "kernelspec": {
   "display_name": "Python 2",
   "language": "python",
   "name": "python2"
  },
  "language_info": {
   "codemirror_mode": {
    "name": "ipython",
    "version": 2
   },
   "file_extension": ".py",
   "mimetype": "text/x-python",
   "name": "python",
   "nbconvert_exporter": "python",
   "pygments_lexer": "ipython2",
   "version": "2.7.12"
  },
  "widgets": {
   "state": {},
   "version": "1.1.2"
  }
 },
 "nbformat": 4,
 "nbformat_minor": 0
}
